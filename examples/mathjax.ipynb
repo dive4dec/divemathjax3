{
 "cells": [
  {
   "cell_type": "markdown",
   "id": "15ee5e9f-dbd1-46e9-84d1-c7702fdd559b",
   "metadata": {},
   "source": [
    "$\\M{x}$"
   ]
  },
  {
   "cell_type": "markdown",
   "id": "0d15b6c3-ff1e-485d-b904-57a9864db3e0",
   "metadata": {},
   "source": [
    "$\\va{x}$"
   ]
  },
  {
   "cell_type": "code",
   "execution_count": 1,
   "id": "d7717747-f402-40ff-b3a7-4e636e5df972",
   "metadata": {},
   "outputs": [
    {
     "name": "stdout",
     "output_type": "stream",
     "text": [
      "Name: divemathjax3\n",
      "Version: 0.0.1\n",
      "Summary: MathJax 3 math renderer for DIVE.\n",
      "Home-page: https://github.com/dive4dec/divemathjax3\n",
      "Author: DIVE\n",
      "Author-email: chungc@alum.mit.edu\n",
      "License: BSD-3-Clause\n",
      "Location: /home/ccha23/divemathjax3\n",
      "Requires: \n",
      "Required-by: \n"
     ]
    }
   ],
   "source": [
    "!pip show divemathjax3"
   ]
  }
 ],
 "metadata": {
  "kernelspec": {
   "display_name": "Python 3 (ipykernel)",
   "language": "python",
   "name": "python3"
  },
  "language_info": {
   "codemirror_mode": {
    "name": "ipython",
    "version": 3
   },
   "file_extension": ".py",
   "mimetype": "text/x-python",
   "name": "python",
   "nbconvert_exporter": "python",
   "pygments_lexer": "ipython3",
   "version": "3.10.5"
  }
 },
 "nbformat": 4,
 "nbformat_minor": 5
}
